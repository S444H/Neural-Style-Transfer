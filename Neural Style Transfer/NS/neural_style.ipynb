{
 "cells": [
  {
   "cell_type": "markdown",
   "source": [
    "## from argparse import ArgumentParser\n",
    "用于解析命令行参数,简化了为脚本定义参数和选项的过程，并自动生成帮助消息。"
   ],
   "metadata": {
    "collapsed": false
   },
   "id": "f47706dc30e88d05"
  },
  {
   "cell_type": "markdown",
   "source": [
    "## 默认参数设置"
   ],
   "metadata": {
    "collapsed": false
   },
   "id": "6e231c89c28117ae"
  },
  {
   "cell_type": "code",
   "execution_count": null,
   "outputs": [],
   "source": [
    "CONTENT_WEIGHT = 5e0\n",
    "CONTENT_WEIGHT_BLEND = 1\n",
    "STYLE_WEIGHT = 5e2\n",
    "TV_WEIGHT = 1e2\n",
    "STYLE_LAYER_WEIGHT_EXP = 1\n",
    "LEARNING_RATE = 1e1\n",
    "BETA1 = 0.9\n",
    "BETA2 = 0.999\n",
    "EPSILON = 1e-08\n",
    "STYLE_SCALE = 1.0\n",
    "ITERATIONS = 1000\n",
    "VGG_PATH = \"imagenet-vgg-verydeep-19.mat\"\n",
    "POOLING = \"max\""
   ],
   "metadata": {
    "collapsed": false
   },
   "id": "22db40950abb10fa"
  }
 ],
 "metadata": {
  "kernelspec": {
   "display_name": "Python 3",
   "language": "python",
   "name": "python3"
  },
  "language_info": {
   "codemirror_mode": {
    "name": "ipython",
    "version": 2
   },
   "file_extension": ".py",
   "mimetype": "text/x-python",
   "name": "python",
   "nbconvert_exporter": "python",
   "pygments_lexer": "ipython2",
   "version": "2.7.6"
  }
 },
 "nbformat": 4,
 "nbformat_minor": 5
}
